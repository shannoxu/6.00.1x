{
 "cells": [
  {
   "cell_type": "markdown",
   "metadata": {},
   "source": [
    "## PS2 Problem 1 - Balance Calculation"
   ]
  },
  {
   "cell_type": "code",
   "execution_count": 15,
   "metadata": {
    "collapsed": false
   },
   "outputs": [
    {
     "name": "stdout",
     "output_type": "stream",
     "text": [
      "31.38\n"
     ]
    }
   ],
   "source": [
    "balance = 42\n",
    "annualInterestRate = 0.2\n",
    "monthlyPaymentRate = 0.04\n",
    "monthlyInterestRate = annualInterestRate / 12\n",
    "\n",
    "for i in range (0,12):        \n",
    "    i=i+1\n",
    "    monthlyMinPayment = monthlyPaymentRate*balance\n",
    "    monthlyUnpaidBal = balance - monthlyMinPayment\n",
    "    balance = monthlyUnpaidBal+(monthlyInterestRate*monthlyUnpaidBal)\n",
    "\n",
    "print (round(balance,2))\n"
   ]
  },
  {
   "cell_type": "markdown",
   "metadata": {},
   "source": [
    "## PS2 Problem 2 - Fixed Payments"
   ]
  },
  {
   "cell_type": "code",
   "execution_count": 50,
   "metadata": {
    "collapsed": false
   },
   "outputs": [
    {
     "name": "stdout",
     "output_type": "stream",
     "text": [
      "Lowest Payment:  29160\n",
      "Balance:  -38.93901635689599\n"
     ]
    }
   ],
   "source": [
    "balance = 320000\n",
    "annualInterestRate = 0.2\n",
    "\n",
    "monthlyInterestRate = annualInterestRate / 12\n",
    "monthlyFixPayment = 0\n",
    "\n",
    "for monthlyFixPayment in range (0,balance,10):\n",
    "    workingBalance = balance\n",
    "    for i in range (0,12):        \n",
    "        i=i+1\n",
    "        monthlyUnpaidBal = workingBalance - monthlyFixPayment\n",
    "        workingBalance = monthlyUnpaidBal+(monthlyInterestRate*monthlyUnpaidBal)\n",
    "    if workingBalance <= 0:\n",
    "        break\n",
    "        \n",
    "      \n",
    "print (\"Lowest Payment: \",monthlyFixPayment)\n",
    "print (\"Balance: \",workingBalance)\n"
   ]
  },
  {
   "cell_type": "markdown",
   "metadata": {},
   "source": [
    "## PS2 Problem 3 - Bisection Search"
   ]
  },
  {
   "cell_type": "code",
   "execution_count": 15,
   "metadata": {
    "collapsed": false
   },
   "outputs": [
    {
     "name": "stdout",
     "output_type": "stream",
     "text": [
      "Lowest Payment:  90325.03\n"
     ]
    }
   ],
   "source": [
    "balance = 999999\n",
    "annualInterestRate = 0.18\n",
    "\n",
    "\n",
    "monthlyInterestRate = annualInterestRate / 12\n",
    "\n",
    "lower = int(balance / 12)\n",
    "upper = int((balance*(1 + monthlyInterestRate)**12) / 12.0)\n",
    "workingBalance = balance\n",
    "guess=0\n",
    "\n",
    "while guess <=100:\n",
    "    workingBalance = balance\n",
    "    monthlyFixPayment = (lower+upper)/2\n",
    "    for i in range (0,12):        \n",
    "        i=i+1\n",
    "        monthlyUnpaidBal = workingBalance - monthlyFixPayment\n",
    "        workingBalance = monthlyUnpaidBal+(monthlyInterestRate*monthlyUnpaidBal)\n",
    "        ## print (\"Month:\",i,\"Working balance:\",workingBalance, \"Fixed payment:\",monthlyFixPayment)\n",
    "    guess=guess+1\n",
    "    if workingBalance < 0:\n",
    "        upper = monthlyFixPayment\n",
    "    else:\n",
    "        lower = monthlyFixPayment\n",
    "      \n",
    "print (\"Lowest Payment: \",round(monthlyFixPayment,2))"
   ]
  },
  {
   "cell_type": "code",
   "execution_count": null,
   "metadata": {
    "collapsed": true
   },
   "outputs": [],
   "source": []
  },
  {
   "cell_type": "code",
   "execution_count": null,
   "metadata": {
    "collapsed": true
   },
   "outputs": [],
   "source": []
  }
 ],
 "metadata": {
  "anaconda-cloud": {},
  "kernelspec": {
   "display_name": "Python [Root]",
   "language": "python",
   "name": "Python [Root]"
  },
  "language_info": {
   "codemirror_mode": {
    "name": "ipython",
    "version": 3
   },
   "file_extension": ".py",
   "mimetype": "text/x-python",
   "name": "python",
   "nbconvert_exporter": "python",
   "pygments_lexer": "ipython3",
   "version": "3.5.2"
  }
 },
 "nbformat": 4,
 "nbformat_minor": 0
}
