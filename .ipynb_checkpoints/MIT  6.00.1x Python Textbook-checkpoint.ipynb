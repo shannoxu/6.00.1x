{
 "cells": [
  {
   "cell_type": "markdown",
   "metadata": {},
   "source": [
    "## 2.2 Exercise\n",
    "Write program that examines three variables -- x,y, and z -- and prints the largest odd number among them. If non of them are odd, it should print a essage to that effect."
   ]
  },
  {
   "cell_type": "code",
   "execution_count": 19,
   "metadata": {
    "collapsed": false
   },
   "outputs": [
    {
     "name": "stdout",
     "output_type": "stream",
     "text": [
      "[303, 203, 45]\n",
      "This is the test:  [303]\n",
      "This is the largest:  [303]\n",
      "This is the test:  [203]\n",
      "This is the test:  [45]\n",
      "The largest odd number is:  [303]\n"
     ]
    }
   ],
   "source": [
    "x = 303\n",
    "y = 203\n",
    "z = 45\n",
    "\n",
    "variables = [x,y,z]\n",
    "\n",
    "print (variables)\n",
    "\n",
    "test = []\n",
    "largest = []\n",
    "\n",
    "if x%2 == 0 and y%2 == 0 and z%2 == 0:\n",
    "    print (\"None of the variables are odd!\")\n",
    "else:\n",
    "    for i in range (len(variables)):\n",
    "        if variables[i]%2 !=0:\n",
    "            test.append (variables[i])\n",
    "            print (\"This is the test: \", test)\n",
    "            if test > largest:\n",
    "                largest = test\n",
    "                print (\"This is the largest: \", largest)\n",
    "            test = []\n",
    "    print (\"The largest odd number is: \", largest)"
   ]
  },
  {
   "cell_type": "markdown",
   "metadata": {},
   "source": [
    "## 2.4 Exercise I\n",
    "While-loop practice"
   ]
  },
  {
   "cell_type": "code",
   "execution_count": 27,
   "metadata": {
    "collapsed": false
   },
   "outputs": [
    {
     "name": "stdout",
     "output_type": "stream",
     "text": [
      "How many times should I print the letter X?3\n",
      "xxx\n"
     ]
    }
   ],
   "source": [
    "numXs = int(input(\"How many times should I print the letter X?\"))\n",
    "toPrint =''\n",
    "\n",
    "# concatenate X to toPrint numXs times, using a while loop\n",
    "\n",
    "n=0\n",
    "while n < numXs:\n",
    "    toPrint = toPrint + 'x'\n",
    "    n = n+1\n",
    "print (toPrint)"
   ]
  },
  {
   "cell_type": "markdown",
   "metadata": {},
   "source": [
    "## 2.4 Exercise II\n",
    "Write a program that asks the user to input 10 integers, and then  prints the largest odd number that was entered. If no odd number was entered, it should print a message to that effect. "
   ]
  },
  {
   "cell_type": "code",
   "execution_count": 1,
   "metadata": {
    "collapsed": false
   },
   "outputs": [
    {
     "name": "stdout",
     "output_type": "stream",
     "text": [
      "Enter Integer1\n",
      "Enter Integer2\n",
      "Enter Integer3\n",
      "Enter Integer203\n",
      "Enter Integer306\n",
      "Enter Integer2011\n",
      "Enter Integer3209\n",
      "Enter Integer1\n",
      "Enter Integer2\n",
      "Enter Integer0\n",
      "[1, 2, 3, 203, 306, 2011, 3209, 1, 2, 0]\n",
      "This is the test:  1\n",
      "This is the largest:  1\n",
      "This is the test:  3\n",
      "This is the largest:  3\n",
      "This is the test:  203\n",
      "This is the largest:  203\n",
      "This is the test:  2011\n",
      "This is the largest:  2011\n",
      "This is the test:  3209\n",
      "This is the largest:  3209\n",
      "This is the test:  1\n",
      "The largest odd number is:  3209\n"
     ]
    }
   ],
   "source": [
    "# Get 10 integer inputs from user:\n",
    "\n",
    "NumberInt = 10\n",
    "integers = []\n",
    "n = 0\n",
    "\n",
    "while n < NumberInt:\n",
    "    integers.append(int(input(\"Enter Integer\")))\n",
    "    n = n+1\n",
    "print (integers)\n",
    "\n",
    "# First determine whether all numbers are odd\n",
    "\n",
    "test = 0\n",
    "for i in range (len(integers)-1):\n",
    "    if integers[i]%2==0:\n",
    "        test = test + 0\n",
    "    else:\n",
    "        test = test + 1\n",
    "\n",
    "odd_test = 0\n",
    "largest = 0\n",
    "\n",
    "if test ==0:\n",
    "    print (\"No odd number was entered\")\n",
    "\n",
    "# Now, identify the largest odd number\n",
    "\n",
    "else:\n",
    "    for i in range (len(integers)):\n",
    "        if integers[i]%2 !=0:\n",
    "            odd_test = integers[i]\n",
    "            print (\"This is the test: \", odd_test)\n",
    "            if odd_test > largest:\n",
    "                largest = odd_test\n",
    "                print (\"This is the largest: \", largest)\n",
    "                odd_test = []\n",
    "    print (\"The largest odd number is: \", largest)\n",
    "\n",
    "    \n",
    "\n",
    "\n",
    "\n"
   ]
  },
  {
   "cell_type": "markdown",
   "metadata": {
    "collapsed": true
   },
   "source": [
    "## 3.1 Exercise\n",
    "Write a program that asks the user to enter an integer and prints two integers, root and pwr, such that 0<pwr<6 and root**pwr is equal to the integer entered by the user. If no such pair of integers exists, it should print a message to that effect. \n"
   ]
  },
  {
   "cell_type": "code",
   "execution_count": 9,
   "metadata": {
    "collapsed": false
   },
   "outputs": [
    {
     "name": "stdout",
     "output_type": "stream",
     "text": [
      "Enter an integer: 104\n",
      "No such pair of integers exists\n"
     ]
    }
   ],
   "source": [
    "integer = int(input(\"Enter an integer: \"))\n",
    "\n",
    "match = 0\n",
    "\n",
    "for i in range (0,integer):\n",
    "    for j in range (0,6):\n",
    "        if i**j == integer:\n",
    "            match = match +1\n",
    "            print (\"root is: \",i,\"pwr is: \",j)\n",
    "\n",
    "if match == 0:\n",
    "    print (\"No such pair of integers exists\")\n",
    "       \n"
   ]
  },
  {
   "cell_type": "markdown",
   "metadata": {},
   "source": [
    "## 3.2 Exercise\n",
    "Let s be a string that contains a sequence of decimal numbers separated by commas, e.g., s = '1.23,2.4,3.123'. Write a program that prints the sum of the numbers in s."
   ]
  },
  {
   "cell_type": "code",
   "execution_count": 10,
   "metadata": {
    "collapsed": false
   },
   "outputs": [
    {
     "data": {
      "text/plain": [
       "6.753"
      ]
     },
     "execution_count": 10,
     "metadata": {},
     "output_type": "execute_result"
    }
   ],
   "source": [
    "# This seems too easy...what am I missing?\n",
    "\n",
    "s = [1.23,2.4,3.123]\n",
    "sum(s)\n"
   ]
  },
  {
   "cell_type": "markdown",
   "metadata": {
    "collapsed": true
   },
   "source": [
    "## 3.3 Exercises \n",
    "What would have to be changed in the following code to make it work for finding an approx to the cube root of both negative and positive numbers? Hint: think about changing \"low\" to ensure that the answer lies within the region being searched."
   ]
  },
  {
   "cell_type": "code",
   "execution_count": 29,
   "metadata": {
    "collapsed": false
   },
   "outputs": [
    {
     "name": "stdout",
     "output_type": "stream",
     "text": [
      "low =  0.0 high=  125 ans = 62.5\n",
      "low =  0.0 high=  62.5 ans = 31.25\n",
      "low =  0.0 high=  31.25 ans = 15.625\n",
      "low =  0.0 high=  15.625 ans = 7.8125\n",
      "low =  0.0 high=  7.8125 ans = 3.90625\n",
      "low =  3.90625 high=  7.8125 ans = 5.859375\n",
      "low =  3.90625 high=  5.859375 ans = 4.8828125\n",
      "low =  4.8828125 high=  5.859375 ans = 5.37109375\n",
      "low =  4.8828125 high=  5.37109375 ans = 5.126953125\n",
      "low =  4.8828125 high=  5.126953125 ans = 5.0048828125\n",
      "low =  4.8828125 high=  5.0048828125 ans = 4.94384765625\n",
      "low =  4.94384765625 high=  5.0048828125 ans = 4.974365234375\n",
      "low =  4.974365234375 high=  5.0048828125 ans = 4.9896240234375\n",
      "low =  4.9896240234375 high=  5.0048828125 ans = 4.99725341796875\n",
      "low =  4.99725341796875 high=  5.0048828125 ans = 5.001068115234375\n",
      "low =  4.99725341796875 high=  5.001068115234375 ans = 4.9991607666015625\n",
      "numGuesses =  16\n",
      "5.000114440917969  is closest cube root of  125\n"
     ]
    }
   ],
   "source": [
    "x=125\n",
    "epsilon = 0.01\n",
    "numGuesses = 0\n",
    "low = 0.0\n",
    "high = max(1.0,abs(x))\n",
    "ans = (high+low)/2.0\n",
    "\n",
    "while abs(ans**3-abs(x))>=epsilon:\n",
    "    print (\"low = \", low, \"high= \", high, \"ans =\", ans)\n",
    "    numGuesses+=1\n",
    "    if ans**3<(abs(x)):\n",
    "        low = ans\n",
    "    else:\n",
    "        high=ans\n",
    "    ans = (high+low)/2.0\n",
    "\n",
    "if x<0:\n",
    "    ans = ans*(-1)\n",
    "\n",
    "print (\"numGuesses = \", numGuesses)\n",
    "print (ans, \" is closest cube root of \",x)\n",
    "    "
   ]
  },
  {
   "cell_type": "markdown",
   "metadata": {},
   "source": [
    "## 3.4 Exercise 1\n",
    "What is decimal eqivelant of binary 10011?"
   ]
  },
  {
   "cell_type": "code",
   "execution_count": 19,
   "metadata": {
    "collapsed": false
   },
   "outputs": [
    {
     "name": "stdout",
     "output_type": "stream",
     "text": [
      "19\n"
     ]
    }
   ],
   "source": [
    "x = (1*2**0)+(1*2**1)+(0*2**2)+(0*2**3)+(1*2**4)\n",
    "print (x)"
   ]
  },
  {
   "cell_type": "markdown",
   "metadata": {},
   "source": [
    "## 3.4 Excercise 2\n",
    "Add a guess count to the Newton method and compare with a bisection method. "
   ]
  },
  {
   "cell_type": "code",
   "execution_count": 30,
   "metadata": {
    "collapsed": false
   },
   "outputs": [
    {
     "name": "stdout",
     "output_type": "stream",
     "text": [
      "guess =  11.180550419402397 in this many tries:  5\n"
     ]
    }
   ],
   "source": [
    "epsilon = 0.01\n",
    "k = 125.0\n",
    "guess = k/2.0\n",
    "count = 0\n",
    "\n",
    "while abs(guess*guess-k)>=epsilon:\n",
    "    guess = guess-(((guess**2)-k)/(2*guess))\n",
    "    count +=1\n",
    "\n",
    "print(\"guess = \", guess, \"in this many tries: \",count)\n",
    "                   "
   ]
  },
  {
   "cell_type": "markdown",
   "metadata": {},
   "source": [
    "## 4.1.1 Exercise\n",
    "Write a funciton isIN that accepts 2 strings as arguments and returns True os either string occurs in the other and False otherwise. Hint, you may want to use the built-in string operation \"in\""
   ]
  },
  {
   "cell_type": "code",
   "execution_count": 37,
   "metadata": {
    "collapsed": false
   },
   "outputs": [
    {
     "data": {
      "text/plain": [
       "True"
      ]
     },
     "execution_count": 37,
     "metadata": {},
     "output_type": "execute_result"
    }
   ],
   "source": [
    "def isIN (x,y):\n",
    "    \"\"\"\n",
    "    Takes in two character strings, x and y, and determine whether either string is found in the other\n",
    "    \"\"\"\n",
    "    if x in y or y in x:\n",
    "        return True\n",
    "    else:\n",
    "        return False\n",
    "\n",
    "isIN(\"abc\",\"wwabc\")\n",
    "\n",
    "    "
   ]
  },
  {
   "cell_type": "code",
   "execution_count": null,
   "metadata": {
    "collapsed": true
   },
   "outputs": [],
   "source": []
  }
 ],
 "metadata": {
  "anaconda-cloud": {},
  "kernelspec": {
   "display_name": "Python [Root]",
   "language": "python",
   "name": "Python [Root]"
  },
  "language_info": {
   "codemirror_mode": {
    "name": "ipython",
    "version": 3
   },
   "file_extension": ".py",
   "mimetype": "text/x-python",
   "name": "python",
   "nbconvert_exporter": "python",
   "pygments_lexer": "ipython3",
   "version": "3.5.2"
  }
 },
 "nbformat": 4,
 "nbformat_minor": 0
}
