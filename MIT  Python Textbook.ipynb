{
 "cells": [
  {
   "cell_type": "markdown",
   "metadata": {},
   "source": [
    "## 2.2 Exercise\n",
    "Write program that examines three variables -- x,y, and z -- and prints the largest odd number among them. If non of them are odd, it should print a essage to that effect."
   ]
  },
  {
   "cell_type": "code",
   "execution_count": 19,
   "metadata": {
    "collapsed": false
   },
   "outputs": [
    {
     "name": "stdout",
     "output_type": "stream",
     "text": [
      "[303, 203, 45]\n",
      "This is the test:  [303]\n",
      "This is the largest:  [303]\n",
      "This is the test:  [203]\n",
      "This is the test:  [45]\n",
      "The largest odd number is:  [303]\n"
     ]
    }
   ],
   "source": [
    "x = 303\n",
    "y = 203\n",
    "z = 45\n",
    "\n",
    "variables = [x,y,z]\n",
    "\n",
    "print (variables)\n",
    "\n",
    "test = []\n",
    "largest = []\n",
    "\n",
    "if x%2 == 0 and y%2 == 0 and z%2 == 0:\n",
    "    print (\"None of the variables are odd!\")\n",
    "else:\n",
    "    for i in range (len(variables)):\n",
    "        if variables[i]%2 !=0:\n",
    "            test.append (variables[i])\n",
    "            print (\"This is the test: \", test)\n",
    "            if test > largest:\n",
    "                largest = test\n",
    "                print (\"This is the largest: \", largest)\n",
    "            test = []\n",
    "    print (\"The largest odd number is: \", largest)"
   ]
  },
  {
   "cell_type": "markdown",
   "metadata": {},
   "source": [
    "## 2.4 Exercise I\n",
    "While-loop practice"
   ]
  },
  {
   "cell_type": "code",
   "execution_count": 27,
   "metadata": {
    "collapsed": false
   },
   "outputs": [
    {
     "name": "stdout",
     "output_type": "stream",
     "text": [
      "How many times should I print the letter X?3\n",
      "xxx\n"
     ]
    }
   ],
   "source": [
    "numXs = int(input(\"How many times should I print the letter X?\"))\n",
    "toPrint =''\n",
    "\n",
    "# concatenate X to toPrint numXs times, using a while loop\n",
    "\n",
    "n=0\n",
    "while n < numXs:\n",
    "    toPrint = toPrint + 'x'\n",
    "    n = n+1\n",
    "print (toPrint)"
   ]
  },
  {
   "cell_type": "markdown",
   "metadata": {},
   "source": [
    "## 2.4 Exercise II\n",
    "Write a program that asks the user to input 10 integers, and then  prints the largest odd number that was entered. If no odd number was entered, it should print a message to that effect. "
   ]
  },
  {
   "cell_type": "code",
   "execution_count": 12,
   "metadata": {
    "collapsed": false
   },
   "outputs": [
    {
     "name": "stdout",
     "output_type": "stream",
     "text": [
      "Enter Integer2\n",
      "Enter Integer1\n",
      "Enter Integer0\n",
      "Enter Integer103\n",
      "Enter Integer2003\n",
      "Enter Integer2002\n",
      "Enter Integer4\n",
      "Enter Integer7\n",
      "Enter Integer1000\n",
      "Enter Integer1\n",
      "[2, 1, 0, 103, 2003, 2002, 4, 7, 1000, 1]\n",
      "This is the test:  1\n",
      "This is the largest:  1\n",
      "This is the test:  103\n",
      "This is the largest:  103\n",
      "This is the test:  2003\n",
      "This is the largest:  2003\n",
      "This is the test:  7\n",
      "This is the test:  1\n",
      "The largest odd number is:  2003\n"
     ]
    }
   ],
   "source": [
    "# Get 10 integer inputs from user:\n",
    "\n",
    "NumberInt = 10\n",
    "integers = []\n",
    "n = 0\n",
    "\n",
    "while n < NumberInt:\n",
    "    integers.append(int(input(\"Enter Integer\")))\n",
    "    n = n+1\n",
    "print (integers)\n",
    "\n",
    "# First determine whether all numbers are odd\n",
    "\n",
    "test = 0\n",
    "for i in range (len(integers)-1):\n",
    "    if integers[i]%2==0:\n",
    "        test = test + 0\n",
    "    else:\n",
    "        test = test + 1\n",
    "\n",
    "odd_test = 0\n",
    "largest = 0\n",
    "\n",
    "if test ==0:\n",
    "    print (\"No odd number was entered\")\n",
    "\n",
    "# Now, identify the largest odd number\n",
    "\n",
    "else:\n",
    "    for i in range (len(integers)):\n",
    "        if integers[i]%2 !=0:\n",
    "            odd_test = integers[i]\n",
    "            print (\"This is the test: \", odd_test)\n",
    "            if odd_test > largest:\n",
    "                largest = odd_test\n",
    "                print (\"This is the largest: \", largest)\n",
    "                odd_test = []\n",
    "    print (\"The largest odd number is: \", largest)\n",
    "\n",
    "    \n",
    "\n",
    "\n",
    "\n"
   ]
  }
 ],
 "metadata": {
  "anaconda-cloud": {},
  "kernelspec": {
   "display_name": "Python [Root]",
   "language": "python",
   "name": "Python [Root]"
  },
  "language_info": {
   "codemirror_mode": {
    "name": "ipython",
    "version": 3
   },
   "file_extension": ".py",
   "mimetype": "text/x-python",
   "name": "python",
   "nbconvert_exporter": "python",
   "pygments_lexer": "ipython3",
   "version": "3.5.2"
  }
 },
 "nbformat": 4,
 "nbformat_minor": 0
}
