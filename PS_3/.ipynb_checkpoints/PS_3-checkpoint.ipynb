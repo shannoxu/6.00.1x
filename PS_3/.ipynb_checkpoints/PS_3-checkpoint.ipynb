{
 "cells": [
  {
   "cell_type": "markdown",
   "metadata": {},
   "source": [
    "## Problem 1 - Is word guessed"
   ]
  },
  {
   "cell_type": "code",
   "execution_count": 3,
   "metadata": {
    "collapsed": false
   },
   "outputs": [
    {
     "name": "stdout",
     "output_type": "stream",
     "text": [
      "True\n"
     ]
    }
   ],
   "source": [
    "def isWordGuessed(secretWord, lettersGuessed):\n",
    "    '''\n",
    "    secretWord: string, the word the user is guessing\n",
    "    lettersGuessed: list, what letters have been guessed so far\n",
    "    returns: boolean, True if all the letters of secretWord are in lettersGuessed;\n",
    "      False otherwise\n",
    "    '''\n",
    "    count = 0\n",
    "    for i in range(0,len(secretWord)):\n",
    "        if secretWord[i] in lettersGuessed:\n",
    "            count +=1\n",
    "    if count == len(secretWord):\n",
    "        return True\n",
    "    else:\n",
    "        return False\n",
    "            \n",
    "\n",
    "    \n",
    "    \n",
    "secretWord = 'apple' \n",
    "lettersGuessed = ['a','p','l','e']\n",
    "print(isWordGuessed(secretWord, lettersGuessed))\n",
    "\n",
    "    "
   ]
  },
  {
   "cell_type": "markdown",
   "metadata": {},
   "source": [
    "## Problem 2 - Printing Out the User's Guess\n",
    "\n",
    "Next, implement the function getGuessedWord that takes in two parameters - a string, secretWord, and a list of letters, lettersGuessed. This function returns a string that is comprised of letters and underscores, based on what letters in lettersGuessed are in secretWord. This shouldn't be too different from isWordGuessed!\n",
    "\n",
    "When inserting underscores into your string, it's a good idea to add at least a space after each one, so it's clear to the user how many unguessed letters are left in the string (compare the readability of ____ with _ _ _ _ ). This is called usability - it's very important, when programming, to consider the usability of your program. If users find your program difficult to understand or operate, they won't use it!\n",
    "\n",
    "For this problem, you are free to use spacing in any way you wish - our grader will only check that the letters and underscores are in the proper order; it will not look at spacing. We do encourage you to think about usability when designing.\n",
    "\n",
    "For this function, you may assume that all the letters in secretWord and lettersGuessed are lowercase.\n"
   ]
  },
  {
   "cell_type": "code",
   "execution_count": 42,
   "metadata": {
    "collapsed": false
   },
   "outputs": [
    {
     "name": "stdout",
     "output_type": "stream",
     "text": [
      "_ p p _ e\n"
     ]
    }
   ],
   "source": [
    "def getGuessedWord(secretWord, lettersGuessed):\n",
    "    '''\n",
    "    secretWord: string, the word the user is guessing\n",
    "    lettersGuessed: list, what letters have been guessed so far\n",
    "    returns: string, comprised of letters and underscores that represents\n",
    "      what letters in secretWord have been guessed so far.\n",
    "    '''\n",
    "    \n",
    "    ## If letter is not in list, replace secretWord string with a space.\n",
    "    \n",
    "    result = []\n",
    "    for i in range(0,len(secretWord)):\n",
    "        if secretWord[i] in lettersGuessed:\n",
    "            result.append (secretWord[i])\n",
    "        else:\n",
    "            result.append (\"_\")\n",
    "    return ' '.join(result)\n",
    "\n",
    " \n",
    "\n",
    "secretWord = 'apple' \n",
    "lettersGuessed = ['e', 'i', 'k', 'p', 'r', 's']\n",
    "print(getGuessedWord(secretWord, lettersGuessed))\n",
    "##'_ pp_ e'"
   ]
  },
  {
   "cell_type": "markdown",
   "metadata": {},
   "source": [
    "## Problem 3 - Printing Out all Available Letters\n",
    "\n",
    "Next, implement the function getAvailableLetters that takes in one parameter - a list of letters, lettersGuessed. This function returns a string that is comprised of lowercase English letters - all lowercase English letters that are not in lettersGuessed.\n",
    "\n",
    "Note that this function should return the letters in alphabetical order, as in the example above.\n",
    "\n",
    "For this function, you may assume that all the letters in lettersGuessed are lowercase.\n",
    "\n",
    "Hint: You might consider using string.ascii_lowercase, which is a string comprised of all lowercase letters:"
   ]
  },
  {
   "cell_type": "code",
   "execution_count": 46,
   "metadata": {
    "collapsed": false
   },
   "outputs": [
    {
     "name": "stdout",
     "output_type": "stream",
     "text": [
      "a b c d f g h j l m n o q t u v w x y z\n"
     ]
    }
   ],
   "source": [
    "def getAvailableLetters(lettersGuessed):\n",
    "    '''\n",
    "    lettersGuessed: list, what letters have been guessed so far\n",
    "    returns: string, comprised of letters that represents what letters have not\n",
    "      yet been guessed.\n",
    "    '''\n",
    "    import string\n",
    "    master = string.ascii_lowercase\n",
    "    result =[]\n",
    "    for i in range (0,len(master)):\n",
    "        if master [i] not in lettersGuessed:\n",
    "            result.append (master[i])\n",
    "    return \" \".join(result)\n",
    "\n",
    "\n",
    "\n",
    "\n",
    "lettersGuessed = ['e', 'i', 'k', 'p', 'r', 's']\n",
    "print(getAvailableLetters(lettersGuessed))\n"
   ]
  },
  {
   "cell_type": "code",
   "execution_count": 45,
   "metadata": {
    "collapsed": false
   },
   "outputs": [
    {
     "name": "stdout",
     "output_type": "stream",
     "text": [
      "abcdefghijklmnopqrstuvwxyz\n"
     ]
    }
   ],
   "source": [
    "import string\n",
    "master = string.ascii_lowercase\n",
    "print (master)"
   ]
  },
  {
   "cell_type": "markdown",
   "metadata": {},
   "source": [
    "## Problem 4 - The Game\n",
    "\n",
    "Now you will implement the function hangman, which takes one parameter - the secretWord the user is to guess. This starts up an interactive game of Hangman between the user and the computer. Be sure you take advantage of the three helper functions, isWordGuessed, getGuessedWord, and getAvailableLetters, that you've defined in the previous part.\n",
    "\n",
    "Hints:\n",
    "You should start by noticing where we're using the provided functions (at the top of ps3_hangman.py) to load the words and pick a random one. Note that the functions loadWords and chooseWord should only be used on your local machine, not in the tutor. When you enter in your solution in the tutor, you only need to give your hangman function.\n",
    "\n",
    "Consider using lower() to convert user input to lower case. For example:\n",
    "\n",
    "guess = 'A'\n",
    "guessInLowerCase = guess.lower()\n",
    "Consider writing additional helper functions if you need them!\n",
    "\n",
    "There are four important pieces of information you may wish to store:\n",
    "\n",
    "secretWord: The word to guess.\n",
    "lettersGuessed: The letters that have been guessed so far.\n",
    "mistakesMade: The number of incorrect guesses made so far.\n",
    "availableLetters: The letters that may still be guessed. Every time a player guesses a letter, the guessed letter must be removed from availableLetters (and if they guess a letter that is not in availableLetters, you should print a message telling them they've already guessed that - so try again!).\n",
    "\n",
    "Note that if you choose to use the helper functions isWordGuessed, getGuessedWord, or getAvailableLetters, you do not need to paste your definitions in the box. We have supplied our implementations of these functions for your use in this part of the problem. If you use additional helper functions, you will need to paste those definitions here.\n",
    "\n",
    "Your function should include calls to input to get the user's guess.\n",
    "\n",
    "\n"
   ]
  },
  {
   "cell_type": "code",
   "execution_count": null,
   "metadata": {
    "collapsed": false
   },
   "outputs": [
    {
     "name": "stdout",
     "output_type": "stream",
     "text": [
      "Loading word list from file...\n",
      "   55909 words loaded.\n",
      "Welcome to the game, Hangman!\n",
      "I am thinking of a word that is  7  letters long.\n",
      "-----------\n",
      "You have  8  guesses left.\n",
      "Available letters: a b c d e f g h i j k l m n o p q r s t u v w x y z\n",
      "Please guess a letter: a\n",
      "Oops! That letter is not in my word:  _ _ _ _ _ _ _\n",
      "-----------\n",
      "You have  7  guesses left.\n",
      "Available letters: b c d e f g h i j k l m n o p q r s t u v w x y z\n",
      "Please guess a letter: b\n",
      "Oops! That letter is not in my word:  _ _ _ _ _ _ _\n",
      "-----------\n",
      "You have  6  guesses left.\n",
      "Available letters: c d e f g h i j k l m n o p q r s t u v w x y z\n",
      "Please guess a letter: e\n",
      "Good guess:  _ e _ _ _ _ e\n",
      "-----------\n",
      "You have  5  guesses left.\n",
      "Available letters: c d f g h i j k l m n o p q r s t u v w x y z\n",
      "Please guess a letter: e\n",
      "Oops! You've already guessed that letter:  _ e _ _ _ _ e\n",
      "-----------\n",
      "You have  4  guesses left.\n",
      "Available letters: c d f g h i j k l m n o p q r s t u v w x y z\n"
     ]
    }
   ],
   "source": [
    "# Hangman game\n",
    "#\n",
    "\n",
    "# -----------------------------------\n",
    "# Helper code\n",
    "# You don't need to understand this helper code,\n",
    "# but you will have to know how to use the functions\n",
    "# (so be sure to read the docstrings!)\n",
    "\n",
    "import random\n",
    "\n",
    "WORDLIST_FILENAME = \"words.txt\"\n",
    "\n",
    "def loadWords():\n",
    "    \"\"\"\n",
    "    Returns a list of valid words. Words are strings of lowercase letters.\n",
    "    \n",
    "    Depending on the size of the word list, this function may\n",
    "    take a while to finish.\n",
    "    \"\"\"\n",
    "    print(\"Loading word list from file...\")\n",
    "    # inFile: file\n",
    "    inFile = open(WORDLIST_FILENAME, 'r')\n",
    "    # line: string\n",
    "    line = inFile.readline()\n",
    "    # wordlist: list of strings\n",
    "    wordlist = line.split()\n",
    "    print(\"  \", len(wordlist), \"words loaded.\")\n",
    "    return wordlist\n",
    "\n",
    "def chooseWord(wordlist):\n",
    "    \"\"\"\n",
    "    wordlist (list): list of words (strings)\n",
    "\n",
    "    Returns a word from wordlist at random\n",
    "    \"\"\"\n",
    "    return random.choice(wordlist)\n",
    "\n",
    "# end of helper code\n",
    "# -----------------------------------\n",
    "\n",
    "# Load the list of words into the variable wordlist\n",
    "# so that it can be accessed from anywhere in the program\n",
    "wordlist = loadWords()\n",
    "\n",
    "def isWordGuessed(secretWord, lettersGuessed):\n",
    "    '''\n",
    "    secretWord: string, the word the user is guessing\n",
    "    lettersGuessed: list, what letters have been guessed so far\n",
    "    returns: boolean, True if all the letters of secretWord are in lettersGuessed;\n",
    "      False otherwise\n",
    "    '''\n",
    "    count = 0\n",
    "    for i in range(0,len(secretWord)):\n",
    "        if secretWord[i] in lettersGuessed:\n",
    "            count +=1\n",
    "    if count == len(secretWord):\n",
    "        return True\n",
    "    else:\n",
    "        return False\n",
    "\n",
    "\n",
    "\n",
    "def getGuessedWord(secretWord, lettersGuessed):\n",
    "    '''\n",
    "    secretWord: string, the word the user is guessing\n",
    "    lettersGuessed: list, what letters have been guessed so far\n",
    "    returns: string, comprised of letters and underscores that represents\n",
    "      what letters in secretWord have been guessed so far.\n",
    "    '''\n",
    "    result = []\n",
    "    for i in range(0,len(secretWord)):\n",
    "        if secretWord[i] in lettersGuessed:\n",
    "            result.append (secretWord[i])\n",
    "        else:\n",
    "            result.append (\"_\")\n",
    "    return ' '.join(result)\n",
    "\n",
    "\n",
    "\n",
    "def getAvailableLetters(lettersGuessed):\n",
    "    '''\n",
    "    lettersGuessed: list, what letters have been guessed so far\n",
    "    returns: string, comprised of letters that represents what letters have not\n",
    "      yet been guessed.\n",
    "    '''\n",
    "    import string\n",
    "    master = string.ascii_lowercase\n",
    "    result =[]\n",
    "    for i in range (0,len(master)):\n",
    "        if master [i] not in lettersGuessed:\n",
    "            result.append (master[i])\n",
    "    return \" \".join(result)\n",
    "\n",
    "\n",
    "def hangman(secretWord):\n",
    "    '''\n",
    "    secretWord: string, the secret word to guess.\n",
    "\n",
    "    Starts up an interactive game of Hangman.\n",
    "\n",
    "    * At the start of the game, let the user know how many \n",
    "      letters the secretWord contains.\n",
    "\n",
    "    * Ask the user to supply one guess (i.e. letter) per round.\n",
    "\n",
    "    * The user should receive feedback immediately after each guess \n",
    "      about whether their guess appears in the computers word.\n",
    "\n",
    "    * After each round, you should also display to the user the \n",
    "      partially guessed word so far, as well as letters that the \n",
    "      user has not yet guessed.\n",
    "\n",
    "    Follows the other limitations detailed in the problem write-up.\n",
    "    '''\n",
    "    lettersGuessed = []\n",
    "    length = len(secretWord)\n",
    "    print (\"Welcome to the game, Hangman!\")\n",
    "    print (\"I am thinking of a word that is \",length,\" letters long.\")\n",
    "    print (\"-----------\")\n",
    "    number_guesses = 8\n",
    "    while number_guesses >= 0:\n",
    "        if isWordGuessed(secretWord, lettersGuessed) == True:\n",
    "            print (\"Congratulations, you won!\")\n",
    "            break\n",
    "        elif number_guesses == 0:\n",
    "            print (\"Sorry, you ran out of guesses. The word was \",secretWord,\".\")\n",
    "            break\n",
    "        else:\n",
    "            print (\"You have \",number_guesses,\" guesses left.\")\n",
    "            number_guesses -=1\n",
    "            print (\"Available letters:\",getAvailableLetters(lettersGuessed))\n",
    "            guess = input (\"Please guess a letter: \")\n",
    "            if guess in lettersGuessed:\n",
    "                print (\"Oops! You've already guessed that letter: \",getGuessedWord(secretWord, lettersGuessed))\n",
    "                print (\"-----------\")            \n",
    "            else:\n",
    "                lettersGuessed.append(guess)\n",
    "                if guess in secretWord:\n",
    "                    print (\"Good guess: \",getGuessedWord(secretWord, lettersGuessed))\n",
    "                    print (\"-----------\")\n",
    "                else:\n",
    "                    print (\"Oops! That letter is not in my word: \",getGuessedWord(secretWord, lettersGuessed))\n",
    "                    print (\"-----------\")\n",
    "\n",
    "\n",
    "    \n",
    "secretWord = chooseWord(wordlist).lower()\n",
    "hangman(secretWord)\n",
    "\n"
   ]
  },
  {
   "cell_type": "code",
   "execution_count": null,
   "metadata": {
    "collapsed": true
   },
   "outputs": [],
   "source": []
  },
  {
   "cell_type": "code",
   "execution_count": null,
   "metadata": {
    "collapsed": true
   },
   "outputs": [],
   "source": []
  }
 ],
 "metadata": {
  "anaconda-cloud": {},
  "kernelspec": {
   "display_name": "Python [Root]",
   "language": "python",
   "name": "Python [Root]"
  },
  "language_info": {
   "codemirror_mode": {
    "name": "ipython",
    "version": 3
   },
   "file_extension": ".py",
   "mimetype": "text/x-python",
   "name": "python",
   "nbconvert_exporter": "python",
   "pygments_lexer": "ipython3",
   "version": "3.5.2"
  }
 },
 "nbformat": 4,
 "nbformat_minor": 0
}
